{
 "cells": [
  {
   "cell_type": "code",
   "execution_count": 1,
   "metadata": {},
   "outputs": [
    {
     "name": "stderr",
     "output_type": "stream",
     "text": [
      "Using TensorFlow backend.\n",
      "WARNING:root:Limited tf.compat.v2.summary API due to missing TensorBoard installation.\n",
      "WARNING:root:Limited tf.compat.v2.summary API due to missing TensorBoard installation.\n",
      "WARNING:root:Limited tf.compat.v2.summary API due to missing TensorBoard installation.\n",
      "WARNING:root:Limited tf.compat.v2.summary API due to missing TensorBoard installation.\n",
      "WARNING:root:Limited tf.compat.v2.summary API due to missing TensorBoard installation.\n",
      "WARNING:root:Limited tf.compat.v2.summary API due to missing TensorBoard installation.\n",
      "WARNING:root:Limited tf.summary API due to missing TensorBoard installation.\n"
     ]
    }
   ],
   "source": [
    "import os\n",
    "os.environ[\"CUDA_VISIBLE_DEVICES\"] = \"0\"\n",
    "import pandas as pd\n",
    "import numpy as np\n",
    "%matplotlib inline\n",
    "import matplotlib.pyplot as plt\n",
    "from keras.utils.np_utils import to_categorical\n",
    "from keras.models import Sequential\n",
    "from keras.layers import Dense, Conv2D, MaxPool2D, Flatten\n",
    "import keras.backend as K\n",
    "import glob\n",
    "from PIL import Image\n",
    "from sklearn.model_selection import train_test_split \n",
    "#from keras.optimizers import SGD, Adam, Adadelta, RMSprop\n",
    "from sklearn.metrics import confusion_matrix\n",
    "#from keras.callbacks import EarlyStopping\n",
    "from keras.preprocessing import image\n",
    "import cv2\n",
    "\n",
    "import re\n",
    "from PIL import Image\n",
    "Image.MAX_IMAGE_PIXELS = 1000000000 \n",
    "from skimage import io\n",
    "#import labelme\n",
    "from Img_pro_defs import *\n",
    "PIXEL = 1080 * 1616\n",
    "from scipy import ndimage, misc\n",
    "import keras_segmentation\n",
    "import imgaug as ia\n",
    "#import imgaug.augmenters as iaa\n",
    "from imgaug import augmenters as iaa\n",
    "import shutil\n",
    "from matplotlib import pyplot as plt"
   ]
  },
  {
   "cell_type": "code",
   "execution_count": 4,
   "metadata": {},
   "outputs": [],
   "source": [
    "orig_list = glob.glob('/home/sami/Downloads/Canola Dataset/labeled/Final 98/Aug_ytrain/*.png')\n",
    "orig_list = sorted_nicely(orig_list)\n",
    "ytrain = np.asarray(orig_list)\n",
    "ytestlist = glob.glob('/home/sami/Downloads/Canola Dataset/labeled/Final 98/Aug_ytest/*.png')\n",
    "ytestlist = sorted_nicely(ytestlist)\n",
    "ytest = np.asarray(ytestlist)"
   ]
  },
  {
   "cell_type": "code",
   "execution_count": 6,
   "metadata": {},
   "outputs": [],
   "source": [
    "Ytrain = np.array([image.img_to_array(image.load_img(fname,target_size = (1056,1600))) for fname in ytrain])\n",
    "Ytest = np.array([image.img_to_array(image.load_img(fname,target_size = (1056,1600))) for fname in ytest])"
   ]
  },
  {
   "cell_type": "code",
   "execution_count": 27,
   "metadata": {},
   "outputs": [],
   "source": [
    "yarancho = np.logical_and(Ytrain[:,:,:,1],Ytrain[:,:,:,2])*1"
   ]
  },
  {
   "cell_type": "code",
   "execution_count": 28,
   "metadata": {},
   "outputs": [],
   "source": [
    "ya = 2*Ytrain[:,:,:,1] + Ytrain[:,:,:,2] - yarancho"
   ]
  },
  {
   "cell_type": "code",
   "execution_count": 29,
   "metadata": {},
   "outputs": [
    {
     "data": {
      "text/plain": [
       "2.0"
      ]
     },
     "execution_count": 29,
     "metadata": {},
     "output_type": "execute_result"
    }
   ],
   "source": [
    "ya.max()"
   ]
  },
  {
   "cell_type": "code",
   "execution_count": 30,
   "metadata": {},
   "outputs": [],
   "source": [
    "ybrancho = np.logical_and(Ytest[:,:,:,1],Ytest[:,:,:,2])*1"
   ]
  },
  {
   "cell_type": "code",
   "execution_count": 31,
   "metadata": {},
   "outputs": [],
   "source": [
    "yb = 2*Ytest[:,:,:,1] + Ytest[:,:,:,2] - ybrancho"
   ]
  },
  {
   "cell_type": "code",
   "execution_count": 32,
   "metadata": {},
   "outputs": [
    {
     "data": {
      "text/plain": [
       "2.0"
      ]
     },
     "execution_count": 32,
     "metadata": {},
     "output_type": "execute_result"
    }
   ],
   "source": [
    "yb.max()"
   ]
  },
  {
   "cell_type": "code",
   "execution_count": 34,
   "metadata": {},
   "outputs": [
    {
     "data": {
      "text/plain": [
       "<matplotlib.image.AxesImage at 0x7f3358e19208>"
      ]
     },
     "execution_count": 34,
     "metadata": {},
     "output_type": "execute_result"
    },
    {
     "data": {
      "image/png": "[encoded data removed]",
      "text/plain": [
       "<Figure size 432x288 with 1 Axes>"
      ]
     },
     "metadata": {
      "needs_background": "light"
     },
     "output_type": "display_data"
    }
   ],
   "source": []
  },
  {
   "cell_type": "code",
   "execution_count": 10,
   "metadata": {},
   "outputs": [],
   "source": [
    "ya=Ytest[:,:,:,2]+Ytest[:,:,:,1]\n",
    "yb=Ytest[:,:,:,2]+Ytest[:,:,:,1]"
   ]
  },
  {
   "cell_type": "code",
   "execution_count": null,
   "metadata": {},
   "outputs": [],
   "source": []
  },
  {
   "cell_type": "code",
   "execution_count": 13,
   "metadata": {},
   "outputs": [
    {
     "data": {
      "text/plain": [
       "array([0., 1., 1.], dtype=float32)"
      ]
     },
     "execution_count": 13,
     "metadata": {},
     "output_type": "execute_result"
    }
   ],
   "source": [
    "Ytest[28,947,366]"
   ]
  },
  {
   "cell_type": "code",
   "execution_count": 20,
   "metadata": {},
   "outputs": [
    {
     "data": {
      "text/plain": [
       "<matplotlib.image.AxesImage at 0x7f3358ed6b70>"
      ]
     },
     "execution_count": 20,
     "metadata": {},
     "output_type": "execute_result"
    },
    {
     "data": {
      "image/png": "[encoded data removed]",
      "text/plain": [
       "<Figure size 432x288 with 1 Axes>"
      ]
     },
     "metadata": {
      "needs_background": "light"
     },
     "output_type": "display_data"
    }
   ],
   "source": [
    "plt.imshow(Ytest[28,945:948,365:367])"
   ]
  },
  {
   "cell_type": "code",
   "execution_count": 17,
   "metadata": {},
   "outputs": [
    {
     "data": {
      "text/plain": [
       "array([0., 1., 1.], dtype=float32)"
      ]
     },
     "execution_count": 17,
     "metadata": {},
     "output_type": "execute_result"
    }
   ],
   "source": [
    "Ytest[89+29, 37, 1300]"
   ]
  },
  {
   "cell_type": "code",
   "execution_count": 15,
   "metadata": {},
   "outputs": [
    {
     "data": {
      "text/plain": [
       "(89, 37, 1300)"
      ]
     },
     "execution_count": 15,
     "metadata": {},
     "output_type": "execute_result"
    }
   ],
   "source": [
    "ind = np.unravel_index(np.argmax(a[29:], axis=None), a[29:].shape)\n",
    "ind"
   ]
  },
  {
   "cell_type": "code",
   "execution_count": null,
   "metadata": {},
   "outputs": [],
   "source": [
    "#Extracting  Zip file\n",
    "#import zipfile\n",
    "#with zipfile.ZipFile(\"/home/sami/Downloads/Canola Dataset/labeled/Final 98.zip\", 'r') as zip_ref:\n",
    "#    zip_ref.extractall(\"/home/sami/Downloads/Canola Dataset/labeled/\")"
   ]
  },
  {
   "cell_type": "code",
   "execution_count": null,
   "metadata": {},
   "outputs": [],
   "source": [
    "#Saving file name to a list\n",
    "#Label = glob.glob('/home/sami/Downloads/Canola Dataset/labeled/Final 98/Label/*.png')\n",
    "##Label = sorted_nicely(Label)\n",
    "#label = np.asarray(Label)\n",
    "\n",
    "#save_fname=[]\n",
    "#for i in range(len(label)):\n",
    "#    fname = os.path.splitext(os.path.basename(label[i]))[0]+'.png'\n",
    " #   save_fname.append(fname)"
   ]
  },
  {
   "cell_type": "code",
   "execution_count": null,
   "metadata": {},
   "outputs": [],
   "source": [
    "#zipping Files \n",
    "#import zlib\n",
    "#import zipfile\n",
    "\n",
    "\"\"\"\n",
    "def compress(file_names):\n",
    "    print(\"File Paths:\")\n",
    "    #print(file_names)\n",
    "\n",
    "    path = \"/home/sami/Downloads/Canola Dataset/labeled/Canola Field/New multiclass/\"\n",
    "\n",
    "    # Select the compression mode ZIP_DEFLATED for compression\n",
    "    # or zipfile.ZIP_STORED to just store the file\n",
    "    compression = zipfile.ZIP_DEFLATED\n",
    "\n",
    "    # create the zip file first parameter path/name, second mode\n",
    "    zf = zipfile.ZipFile(\"RAWs.zip\", mode=\"w\")\n",
    "    for file_name in range(len(file_names)):\n",
    "            # Add file to the zip file\n",
    "            # first parameter file to zip, second filename in zip\n",
    "        zf.write(path + file_names[file_name], file_names[file_name], compress_type=compression)\n",
    "        print(file_names[file_name])\n",
    "\n",
    "   \n",
    "        # Don't forget to close the file!\n",
    "    zf.close()\n",
    "\n",
    "\n",
    "file_names= save_fname\n",
    "compress(file_names)\"\"\""
   ]
  },
  {
   "cell_type": "code",
   "execution_count": null,
   "metadata": {},
   "outputs": [],
   "source": [
    "orig_list = glob.glob('/home/sami/Downloads/Canola Dataset/labeled/Final 98/field/*.JPG')\n",
    "orig_list = sorted_nicely(orig_list)\n",
    "field = np.asarray(orig_list)\n",
    "\n",
    "Label = glob.glob('/home/sami/Downloads/Canola Dataset/labeled/Final 98/multiclass/*.png')\n",
    "Label = sorted_nicely(Label)\n",
    "label = np.asarray(Label)\n",
    "#anot_list = glob.glob('/home/sami/Downloads/Canola Dataset/multiclass done/*.png')\n",
    "#anot_list = sorted_nicely(anot_list)\n",
    "\n"
   ]
  },
  {
   "cell_type": "code",
   "execution_count": null,
   "metadata": {},
   "outputs": [],
   "source": [
    "\"\"\"Label = glob.glob('/home/sami/Downloads/Canola Dataset/labeled/Canola Field/New multiclass/*.png')\n",
    "Label = sorted_nicely(Label)\n",
    "label = np.asarray(Label)\n",
    "from zipfile import ZipFile\n",
    "labelone = np.array([image.img_to_array(image.load_img(fname,target_size = (1056,1600))) for fname in label])\n",
    "\"\"\"\n"
   ]
  },
  {
   "cell_type": "code",
   "execution_count": null,
   "metadata": {},
   "outputs": [],
   "source": [
    "\n",
    "field = np.array([image.img_to_array(image.load_img(fname,target_size = (1056,1600))) for fname in field])\n",
    "multiclass = np.array([image.img_to_array(image.load_img(fname,target_size = (1056,1600))) for fname in label])"
   ]
  },
  {
   "cell_type": "code",
   "execution_count": null,
   "metadata": {},
   "outputs": [],
   "source": [
    "plt.imshow(multiclass[1]/255.0)"
   ]
  },
  {
   "cell_type": "code",
   "execution_count": null,
   "metadata": {},
   "outputs": [],
   "source": [
    "a = (multiclass[:,:,:,1]+multiclass[:,:,:,0])\n",
    "for  i in range(a.shape[0]):\n",
    "    if a[i].max()==510:\n",
    "        print(i)"
   ]
  },
  {
   "cell_type": "code",
   "execution_count": null,
   "metadata": {},
   "outputs": [],
   "source": [
    "weeds = [0,8,21,22,23,24,27,28,29,30,43,46,48,49,50,51,52,53,54,55,56,57,58,59,60,61,62,63,64,65,68,69,70,71,72,73,74,75,76,77,79,80,81,82,83,84,85,86,87,88,89,90,91,92,93,94,95,96,97,98,101,102,106,107,108]\n",
    "weeds = np.asarray(weeds)\n",
    "crop  = [1,2,3,4,5,6,7,9,10,11,12,13,14,15,16,17,18,19,20,25,26,31,32,33,34,35,36,37,38,39,40,41,42,44,45,47,66,67,78,99,100,103,104,105]\n",
    "crop = np.asarray(crop)\n",
    "len(crop)"
   ]
  },
  {
   "cell_type": "code",
   "execution_count": null,
   "metadata": {},
   "outputs": [],
   "source": [
    "a=multiclass[:,:,:,0]/255.0+2*(multiclass[:,:,:,1]/255.0)"
   ]
  },
  {
   "cell_type": "code",
   "execution_count": null,
   "metadata": {},
   "outputs": [],
   "source": []
  },
  {
   "cell_type": "code",
   "execution_count": 36,
   "metadata": {},
   "outputs": [
    {
     "name": "stdout",
     "output_type": "stream",
     "text": [
      "Image sepration Done\n"
     ]
    }
   ],
   "source": [
    "import cv2\n",
    "\n",
    "outpath = '/home/sami/Downloads/Canola Dataset/labeled/Final 98/ytest_heatmaps'\n",
    "for i in range(yb.shape[0]):\n",
    "    \n",
    "    save_fname = os.path.join(outpath, os.path.splitext(os.path.basename(ytest[i]))[0]+'.png')\n",
    "    cv2.imwrite(save_fname, yb[i]) \n",
    "    # convert to numpy array\n",
    "print('Image sepration Done')"
   ]
  },
  {
   "cell_type": "code",
   "execution_count": null,
   "metadata": {},
   "outputs": [],
   "source": []
  },
  {
   "cell_type": "code",
   "execution_count": null,
   "metadata": {},
   "outputs": [],
   "source": []
  },
  {
   "cell_type": "code",
   "execution_count": null,
   "metadata": {},
   "outputs": [],
   "source": [
    "print(backremoved[4])\n",
    "print(label[4])"
   ]
  },
  {
   "cell_type": "code",
   "execution_count": null,
   "metadata": {},
   "outputs": [],
   "source": [
    "orig_train, orig_test, anot_train, anot_test = train_test_split(field,multiclass,test_size = 0.15)"
   ]
  },
  {
   "cell_type": "code",
   "execution_count": null,
   "metadata": {},
   "outputs": [],
   "source": [
    "anot_train.shape"
   ]
  },
  {
   "cell_type": "code",
   "execution_count": null,
   "metadata": {},
   "outputs": [],
   "source": []
  },
  {
   "cell_type": "code",
   "execution_count": null,
   "metadata": {},
   "outputs": [],
   "source": [
    "x_train = np.asarray(orig_train)\n",
    "y_train = np.asarray(anot_train)\n",
    "x_test = np.asarray(orig_test)\n",
    "y_test = np.asarray(anot_test)"
   ]
  },
  {
   "cell_type": "code",
   "execution_count": null,
   "metadata": {},
   "outputs": [],
   "source": [
    "#orig_list =[]\n",
    "#for k, file in enumerate (files):\n",
    "#    orig_list.append(path + files[k][38:58] + '.JPG')\n",
    "#orig_train = np.asarray(orig_test)\n",
    "#anot_train = np.asarray(anot_test)\n",
    "#orig = orig_train[:]\n",
    "#anot = anot_train[:]"
   ]
  },
  {
   "cell_type": "code",
   "execution_count": null,
   "metadata": {},
   "outputs": [],
   "source": [
    "\n",
    "Y_train = np.array([image.img_to_array(image.load_img(fname,target_size = (1056,1600))) for fname in y_train])\n",
    "X_train = np.array([image.img_to_array(image.load_img(fname,target_size = (1056,1600))) for fname in x_train])\n",
    "Y_test = np.array([image.img_to_array(image.load_img(fname,target_size = (1056,1600))) for fname in y_test])\n",
    "X_test = np.array([image.img_to_array(image.load_img(fname,target_size = (1056,1600))) for fname in x_test])\n"
   ]
  },
  {
   "cell_type": "code",
   "execution_count": null,
   "metadata": {},
   "outputs": [],
   "source": [
    "Y_train[Y_train<200]=0.0\n",
    "Y_test[Y_test<200]=0.0\n",
    "Y_train[Y_train>200]=1.0\n",
    "Y_test[Y_test>200]=1.0"
   ]
  },
  {
   "cell_type": "code",
   "execution_count": null,
   "metadata": {},
   "outputs": [],
   "source": []
  },
  {
   "cell_type": "code",
   "execution_count": null,
   "metadata": {},
   "outputs": [],
   "source": [
    "X_test.max()"
   ]
  },
  {
   "cell_type": "code",
   "execution_count": null,
   "metadata": {},
   "outputs": [],
   "source": [
    "for i in range(Y_train.shape[0]):\n",
    "    \n",
    "    Y_train[i]= cv2.medianBlur(Y_train[i], 3)\n",
    "    if i<Y_test.shape[0]:\n",
    "        Y_test[i] = cv2.medianBlur(Y_test[i], 3)\n",
    "\n",
    "    "
   ]
  },
  {
   "cell_type": "code",
   "execution_count": null,
   "metadata": {},
   "outputs": [],
   "source": [
    "Y_train.min()"
   ]
  },
  {
   "cell_type": "code",
   "execution_count": null,
   "metadata": {},
   "outputs": [],
   "source": [
    "plt.imshow(Y_train[26])"
   ]
  },
  {
   "cell_type": "code",
   "execution_count": null,
   "metadata": {},
   "outputs": [],
   "source": [
    "X_train, X_test, Y_train, Y_test = [orig_train, orig_test, anot_train, anot_test]"
   ]
  },
  {
   "cell_type": "code",
   "execution_count": null,
   "metadata": {},
   "outputs": [],
   "source": [
    "Y_train = Y_train/255.0\n",
    "Y_test  = Y_test/255.0"
   ]
  },
  {
   "cell_type": "code",
   "execution_count": null,
   "metadata": {},
   "outputs": [],
   "source": [
    "X_train, Y_train, X_test, Y_test = augment_high_order (X_train, Y_train, X_test, Y_test,0)"
   ]
  },
  {
   "cell_type": "code",
   "execution_count": null,
   "metadata": {},
   "outputs": [],
   "source": [
    "Y_train.max()"
   ]
  },
  {
   "cell_type": "code",
   "execution_count": null,
   "metadata": {},
   "outputs": [],
   "source": [
    "plt.imshow(Y_train[45])"
   ]
  },
  {
   "cell_type": "code",
   "execution_count": null,
   "metadata": {},
   "outputs": [],
   "source": [
    "outpath = '/home/sami/Downloads/Canola Dataset/labeled/Final 98/Aug_xtrain_field'\n",
    "for i in range(X_train.shape[0]):\n",
    "    filenamey=str(i+1328)+str('.jpg')\n",
    "    cv2.imwrite(os.path.join(outpath , filenamey), X_train[i]) \n",
    "    # convert to numpy array\n",
    "print('Image sepration Done')\n",
    "    "
   ]
  },
  {
   "cell_type": "code",
   "execution_count": null,
   "metadata": {},
   "outputs": [],
   "source": [
    "outpath = '/home/sami/Downloads/Canola Dataset/labeled/Final 98/Aug_ytrain'\n",
    "for i in range(Y_train.shape[0]):\n",
    "    filenamey=str(i+1328)+str('.png')\n",
    "    cv2.imwrite(os.path.join(outpath , filenamey), Y_train[i]) \n",
    "    # convert to numpy array\n",
    "print('Image sepration Done')"
   ]
  },
  {
   "cell_type": "code",
   "execution_count": null,
   "metadata": {},
   "outputs": [],
   "source": [
    "outpath = '/home/sami/Downloads/Canola Dataset/labeled/Final 98/Aug_xtest'\n",
    "for i in range(X_test.shape[0]):\n",
    "    filenamey=str(i+240)+str('.jpg')\n",
    "    cv2.imwrite(os.path.join(outpath , filenamey), X_test[i]) \n",
    "    # convert to numpy array\n",
    "print('Image sepration Done')"
   ]
  },
  {
   "cell_type": "code",
   "execution_count": null,
   "metadata": {},
   "outputs": [],
   "source": [
    "outpath = '/home/sami/Downloads/Canola Dataset/labeled/Final 98/Aug_ytest'\n",
    "for i in range(Y_test.shape[0]):\n",
    "    filenamey=str(i+240)+str('.png')\n",
    "    cv2.imwrite(os.path.join(outpath , filenamey), Y_test[i]) \n",
    "    # convert to numpy array\n",
    "print('Image sepration Done')"
   ]
  },
  {
   "cell_type": "code",
   "execution_count": null,
   "metadata": {},
   "outputs": [],
   "source": [
    "plt.imshow(Y_test[25])"
   ]
  },
  {
   "cell_type": "code",
   "execution_count": null,
   "metadata": {},
   "outputs": [],
   "source": [
    "anot_list = glob.glob('/home/sami/Semester 3/Datasets/Canola/Ytest/*.png')\n",
    "anot_list = sorted_nicely(anot_list)\n",
    "Y_train = np.array([image.img_to_array(image.load_img(fname,target_size = (1056,1600))) for fname in anot_list])\n"
   ]
  },
  {
   "cell_type": "code",
   "execution_count": null,
   "metadata": {},
   "outputs": [],
   "source": [
    "X_train.max()"
   ]
  },
  {
   "cell_type": "code",
   "execution_count": null,
   "metadata": {},
   "outputs": [],
   "source": [
    "plt.imshow(X_train[18]/255)"
   ]
  },
  {
   "cell_type": "code",
   "execution_count": null,
   "metadata": {},
   "outputs": [],
   "source": [
    "Y_train[2].max()"
   ]
  },
  {
   "cell_type": "code",
   "execution_count": null,
   "metadata": {},
   "outputs": [],
   "source": [
    "Y_train[:].max()"
   ]
  },
  {
   "cell_type": "code",
   "execution_count": null,
   "metadata": {},
   "outputs": [],
   "source": [
    "Y_train[Y_train<200]=0.0\n",
    "Y_test[Y_test<200]=0.0\n",
    "Y_train[Y_train>200]=255.0\n",
    "Y_test[Y_test>200]=255.0"
   ]
  },
  {
   "cell_type": "code",
   "execution_count": null,
   "metadata": {},
   "outputs": [],
   "source": [
    "plt.imshow(X_train[19])"
   ]
  },
  {
   "cell_type": "code",
   "execution_count": null,
   "metadata": {},
   "outputs": [],
   "source": [
    "ymap=2*(Y_train[:,:,:,0])+Y_train[:,:,:,1]"
   ]
  },
  {
   "cell_type": "code",
   "execution_count": null,
   "metadata": {},
   "outputs": [],
   "source": [
    "ymap=2*(Y_train[:,:,:,0])+Y_train[:,:,:,1]\n",
    "ymap = np.where(ymap <= 2.0 ,ymap, 0)\n",
    "ymap.max()"
   ]
  },
  {
   "cell_type": "code",
   "execution_count": null,
   "metadata": {},
   "outputs": [],
   "source": [
    "ymap.max()"
   ]
  },
  {
   "cell_type": "code",
   "execution_count": null,
   "metadata": {},
   "outputs": [],
   "source": [
    "plt.imshow(ymap[20])"
   ]
  },
  {
   "cell_type": "code",
   "execution_count": null,
   "metadata": {},
   "outputs": [],
   "source": [
    "ymap.max()"
   ]
  },
  {
   "cell_type": "code",
   "execution_count": null,
   "metadata": {},
   "outputs": [],
   "source": [
    "for i in range(ymap.shape[0]):\n",
    "    pathyt='/home/sami/Semester 3/Datasets/Canola/Yheattrain'\n",
    "    filenamey=str(i)+str('.png')\n",
    "    print(i)\n",
    "    cv2.imwrite(os.path.join(pathyt , filenamey), ymap[i])"
   ]
  },
  {
   "cell_type": "code",
   "execution_count": null,
   "metadata": {},
   "outputs": [],
   "source": [
    "ymap=2*(Y_train[:,:,:,0])+Y_train[:,:,:,1]\n",
    "ymap = np.where(ymap <= 2.0 ,ymap, 0)\n",
    "ymap.max()"
   ]
  },
  {
   "cell_type": "code",
   "execution_count": null,
   "metadata": {},
   "outputs": [],
   "source": [
    "\n",
    "for i in range(ymap.shape[0]):\n",
    "    pathyt='/home/sami/Semester 3/Datasets/Canola/Yheattrain'\n",
    "    filenamey=str(i+928)+str('.png')\n",
    "    print(i)\n",
    "    cv2.imwrite(os.path.join(pathyt , filenamey), ymap[i])"
   ]
  },
  {
   "cell_type": "code",
   "execution_count": null,
   "metadata": {},
   "outputs": [],
   "source": [
    "for i in range(X_train.shape[0]):\n",
    "    \n",
    "    pathxt = '/home/sami/Semester 3/Datasets/Canola/Xtrain'\n",
    "    pathyt = '/home/sami/Semester 3/Datasets/Canola/Ytrain'\n",
    "    filenamex=str(i+928)+str('.jpg')\n",
    "    filenamey=str(i+928)+str('.png')\n",
    "    cv2.imwrite(os.path.join(pathxt , filenamex), X_train[i])\n",
    "    cv2.imwrite(os.path.join(pathyt , filenamey), Y_train[i]*255)"
   ]
  },
  {
   "cell_type": "code",
   "execution_count": null,
   "metadata": {},
   "outputs": [],
   "source": [
    "print(i)"
   ]
  },
  {
   "cell_type": "code",
   "execution_count": null,
   "metadata": {},
   "outputs": [],
   "source": [
    "for i in range(X_test.shape[0]):\n",
    "    \n",
    "    pathxt = '/home/sami/Semester 3/Datasets/Canola/Xtest'\n",
    "    pathyt = '/home/sami/Semester 3/Datasets/Canola/Ytest'\n",
    "    filenamex=str(i+176)+str('.jpg')\n",
    "    filenamey=str(i+176)+str('.png')\n",
    "    print(i)\n",
    "    cv2.imwrite(os.path.join(pathxt , filenamex), X_test[i])\n",
    "    cv2.imwrite(os.path.join(pathyt , filenamey), Y_test[i]*255)"
   ]
  },
  {
   "cell_type": "code",
   "execution_count": null,
   "metadata": {},
   "outputs": [],
   "source": []
  },
  {
   "cell_type": "code",
   "execution_count": null,
   "metadata": {},
   "outputs": [],
   "source": [
    "for i in range(X_test.shape[0]):\n",
    "    \n",
    "    pathxt = '/home/sami/Semester 3/Datasets/Canola/Xtest'\n",
    "    pathyt = '/home/sami/Semester 3/Datasets/Canola/Ytest'\n",
    "    filename=str(i+176)+str('.jpg')\n",
    "    cv2.imwrite(os.path.join(pathxt , filename), X_test[i])\n",
    "    cv2.imwrite(os.path.join(pathyt , filename), Y_test[i]*255)"
   ]
  },
  {
   "cell_type": "code",
   "execution_count": null,
   "metadata": {},
   "outputs": [],
   "source": [
    "for i in range(X_test_b.shape[0]):\n",
    "    \n",
    "    pathxt = '/home/sami/Semester 3/Datasets/Canola/Xtest'\n",
    "    pathyt = '/home/sami/Semester 3/Datasets/Canola/Ytest'\n",
    "    filenamex=str(i+220)+str('.jpg')\n",
    "    filenamey=str(i+220)+str('.png')\n",
    "    cv2.imwrite(os.path.join(pathxt , filenamex), X_test_b[i])\n",
    "    cv2.imwrite(os.path.join(pathyt , filenamey), Y_test_b[i]*255)"
   ]
  },
  {
   "cell_type": "code",
   "execution_count": null,
   "metadata": {},
   "outputs": [],
   "source": [
    "filename=str(2)+str('.jpg')\n",
    "print(filename)"
   ]
  },
  {
   "cell_type": "code",
   "execution_count": null,
   "metadata": {},
   "outputs": [],
   "source": [
    "X_train, Y_train, X_test, Y_test = augment_high_order (X_train, Y_train, X_test, Y_test,1)"
   ]
  },
  {
   "cell_type": "code",
   "execution_count": null,
   "metadata": {},
   "outputs": [],
   "source": [
    "Y_train.shape"
   ]
  },
  {
   "cell_type": "code",
   "execution_count": null,
   "metadata": {},
   "outputs": [],
   "source": [
    "plt.imshow(Y_train[11].max())"
   ]
  },
  {
   "cell_type": "code",
   "execution_count": null,
   "metadata": {},
   "outputs": [],
   "source": [
    "plt.imshow(X_train[11]/255)"
   ]
  },
  {
   "cell_type": "code",
   "execution_count": null,
   "metadata": {},
   "outputs": [],
   "source": [
    "Y_train[10,400:600,1527:,2].max()"
   ]
  },
  {
   "cell_type": "code",
   "execution_count": null,
   "metadata": {},
   "outputs": [],
   "source": [
    "X_train = np.concatenate((X_train,X_test,X_train_b,X_test_b), axis = 0)\n",
    "Y_train = np.concatenate((Y_train,Y_test,Y_train_b,Y_test_b), axis = 0)\n"
   ]
  },
  {
   "cell_type": "code",
   "execution_count": null,
   "metadata": {},
   "outputs": [],
   "source": [
    "del X_test,Y_test,X_train,Y_train,X_train_b,Y_train_b"
   ]
  },
  {
   "cell_type": "code",
   "execution_count": null,
   "metadata": {},
   "outputs": [],
   "source": [
    "plt.imshow(X_train[270]/255)"
   ]
  },
  {
   "cell_type": "code",
   "execution_count": null,
   "metadata": {},
   "outputs": [],
   "source": [
    "plt.imshow(Y_train[270])"
   ]
  },
  {
   "cell_type": "code",
   "execution_count": null,
   "metadata": {},
   "outputs": [],
   "source": [
    "plt.imshow(Y_train[177])"
   ]
  },
  {
   "cell_type": "code",
   "execution_count": null,
   "metadata": {},
   "outputs": [],
   "source": [
    "print (X_train.shape)\n",
    "print (Y_train.shape)\n",
    "#print (X_test.shape)\n",
    "#print (Y_test.shape)"
   ]
  },
  {
   "cell_type": "code",
   "execution_count": null,
   "metadata": {},
   "outputs": [],
   "source": [
    "write_nicely(X_train,1,'Data/canola/aug_test/images')\n",
    "write_nicely(Y_train,1,'Data/canola/aug_test/heatmaps')   \n",
    "#write_nicely(X_test,1,'Data/aug_test/images')\n",
    "#write_nicely(Y_test,1,'Data/aug_test/heatmaps') "
   ]
  },
  {
   "cell_type": "code",
   "execution_count": null,
   "metadata": {},
   "outputs": [],
   "source": [
    "\n"
   ]
  },
  {
   "cell_type": "code",
   "execution_count": null,
   "metadata": {},
   "outputs": [],
   "source": [
    "for k in range (X_test.shape[0]):\n",
    "    cv2.imwrite('Data/aug_test/' + k + '.png',X_test[k])\n",
    "    cv2.imwrite('Data/aug_test/' + k + '.png',Y_test[k])"
   ]
  },
  {
   "cell_type": "code",
   "execution_count": null,
   "metadata": {},
   "outputs": [],
   "source": [
    "plt.imshow(images_aug[12])\n",
    "cv2.imwrite('aug.png',images_aug[12])"
   ]
  },
  {
   "cell_type": "code",
   "execution_count": null,
   "metadata": {},
   "outputs": [],
   "source": [
    "plt.imshow(heatmaps_aug[12])"
   ]
  },
  {
   "cell_type": "code",
   "execution_count": null,
   "metadata": {},
   "outputs": [],
   "source": [
    "for k in range (len(files)):\n",
    "    \n",
    "    cv2.imwrite('Data/temp2/fredericks_204_205/30_05_2019/' + files[k][38:58] +'.png',anot[k]/255)\n",
    "    cv2.imwrite('Data/temp1/fredericks_204_205/30_05_2019/' + files[k][38:58] +'.png',orig[k])\n",
    "    "
   ]
  },
  {
   "cell_type": "code",
   "execution_count": null,
   "metadata": {},
   "outputs": [],
   "source": [
    "!nvidia-smi"
   ]
  },
  {
   "cell_type": "code",
   "execution_count": null,
   "metadata": {
    "scrolled": true
   },
   "outputs": [],
   "source": [
    "model = keras_segmentation.models.unet.vgg_unet(n_classes=2 ,  input_height=1056, input_width=1600  )\n",
    "\n",
    "model.train( \n",
    "    train_images =  \"Data/train/\",\n",
    "    train_annotations = \"Data/anot/\",\n",
    "  \n",
    "    checkpoints_path = \"ckpt/\" , epochs= 10\n",
    ")\n",
    "\n",
    " #val_images=\"Data/test set/test/\",\n",
    "   # val_annotations=\"Data/test set/anot/\",\n"
   ]
  },
  {
   "cell_type": "code",
   "execution_count": null,
   "metadata": {},
   "outputs": [],
   "source": [
    "files = glob.glob('Data/test set/*.JPG')\n",
    "orig = np.array([image.img_to_array(image.load_img(fname,target_size = (1056,1600))) for fname in files])\n",
    "\n",
    "#orig1 = orig.reshape(1056,1600,3)\n",
    "plt.imshow(orig[0]/255.)"
   ]
  },
  {
   "cell_type": "code",
   "execution_count": null,
   "metadata": {},
   "outputs": [],
   "source": [
    "files = glob.glob('Data/test set/test/*.png')\n",
    "files1 = glob.glob('Data/test set/anot/*.png')\n",
    "orig = np.array([image.img_to_array(image.load_img(fname,target_size = (1056,1600))) for fname in files])\n",
    "anot = np.array([image.img_to_array(image.load_img(fname,target_size = (1056,1600))) for fname in files1])\n",
    "#orig1 = orig.reshape(1056,1600,3)\n",
    "plt.imshow(orig[0]/255.)"
   ]
  },
  {
   "cell_type": "code",
   "execution_count": null,
   "metadata": {},
   "outputs": [],
   "source": [
    "anot.shape"
   ]
  },
  {
   "cell_type": "code",
   "execution_count": null,
   "metadata": {},
   "outputs": [],
   "source": [
    "cv2.imwrite('Data/test set/PICT_20190530_142214.png',orig[1])"
   ]
  },
  {
   "cell_type": "code",
   "execution_count": null,
   "metadata": {},
   "outputs": [],
   "source": [
    "out = model.predict_segmentation(\n",
    "    inp=\"Data/test set/PICT_20190530_142214.png\",\n",
    "    out_fname=\"Data/test set/test2.png\"\n",
    ")\n",
    "\n",
    "\n",
    "import matplotlib.pyplot as plt\n",
    "plt.imshow(out*255)"
   ]
  },
  {
   "cell_type": "markdown",
   "metadata": {},
   "source": [
    "# cv2.imwrite('Data/test set/2223.png',out*255)"
   ]
  },
  {
   "cell_type": "code",
   "execution_count": null,
   "metadata": {},
   "outputs": [],
   "source": [
    "path = 'Data/Masks/fredericks_204_205/30_05_2019'\n",
    "path1 = 'Data/Back_rm/Fred_204_205/30-05-2019'\n",
    "path2 = 'Data/temp/fredericks_204_205/30_05_2019'"
   ]
  },
  {
   "cell_type": "code",
   "execution_count": null,
   "metadata": {},
   "outputs": [],
   "source": [
    "csv_file = pd.read_csv('Data/Originals/Fred_204_205/30-05-2019/Fredericks 204-205 South.csv')"
   ]
  },
  {
   "cell_type": "code",
   "execution_count": null,
   "metadata": {},
   "outputs": [],
   "source": [
    "files = glob.glob('Data/Back_rm/Fred_204_205/30-05-2019/*.JPG')\n",
    "data = crop_pixel_counter (files, csv_file, 20, 3)\n",
    "files = glob.glob('Data/temp/fredericks_204_205/30_05_2019/*.png')\n",
    "files = sorted_nicely(files)\n",
    "\n",
    "\n",
    "for k, file in enumerate (files):\n",
    "    image = cv2.imread (file)\n",
    "    image[image != 0] = 1\n",
    "    weed_percent =count_nonblack_np(image)/PIXEL*100\n",
    "    print (weed_percent)\n",
    "    data['Weed Leaves Area'][files[k][40:60] + '.JPG'] = weed_percent\n",
    "    data['Crop Leaves Area'][files[k][40:60] + '.JPG'] = data['Crop Leaves Area'][files[k][40:60] + '.JPG'] - weed_percent\n",
    "\n",
    "    \n",
    "data.to_csv('Data/CSV/fredericks_204_205/30_05_2019/Fredericks 204-205 South.csv')    \n",
    "data\n",
    "\n",
    "\n",
    "\n",
    "\n",
    "\n",
    "        \n",
    "    "
   ]
  },
  {
   "cell_type": "code",
   "execution_count": null,
   "metadata": {},
   "outputs": [],
   "source": [
    "data.loc['PICT_20190530_150019.JPG']"
   ]
  },
  {
   "cell_type": "code",
   "execution_count": null,
   "metadata": {},
   "outputs": [],
   "source": [
    "image = cv2.imread ('Data/Back_rm/Fred_204_205/30-05-2019/PICT_20190530_142058.JPG')"
   ]
  },
  {
   "cell_type": "code",
   "execution_count": null,
   "metadata": {},
   "outputs": [],
   "source": [
    "image1 = cv2.imread ('Data/temp/fredericks_204_205/30_05_2019/PICT_20190530_142058.png')"
   ]
  },
  {
   "cell_type": "code",
   "execution_count": null,
   "metadata": {},
   "outputs": [],
   "source": [
    "image = cv2.imread ('Data/Back_rm/Fred_204_205/30-05-2019/PICT_20190530_152239.JPG')\n",
    "image = thresholding(image,20)\n",
    "image = median_filter(image,5)\n",
    "image[image!=0] = 1\n",
    "image.sum()"
   ]
  },
  {
   "cell_type": "code",
   "execution_count": null,
   "metadata": {},
   "outputs": [],
   "source": [
    "cv2.imwrite('result2.png',255*image)"
   ]
  },
  {
   "cell_type": "code",
   "execution_count": null,
   "metadata": {},
   "outputs": [],
   "source": []
  },
  {
   "cell_type": "code",
   "execution_count": null,
   "metadata": {},
   "outputs": [],
   "source": []
  },
  {
   "cell_type": "code",
   "execution_count": null,
   "metadata": {},
   "outputs": [],
   "source": []
  },
  {
   "cell_type": "code",
   "execution_count": null,
   "metadata": {},
   "outputs": [],
   "source": []
  },
  {
   "cell_type": "code",
   "execution_count": null,
   "metadata": {},
   "outputs": [],
   "source": [
    "\n"
   ]
  },
  {
   "cell_type": "code",
   "execution_count": null,
   "metadata": {},
   "outputs": [],
   "source": []
  },
  {
   "cell_type": "code",
   "execution_count": null,
   "metadata": {},
   "outputs": [],
   "source": [
    "my_image.sum()/PIXEL*100"
   ]
  },
  {
   "cell_type": "code",
   "execution_count": null,
   "metadata": {},
   "outputs": [],
   "source": [
    "from PIL import Image\n",
    "\n",
    "img = Image.open('Data/temp/fredericks_204_205/30_05_2019/PICT_20190530_142110.png')"
   ]
  },
  {
   "cell_type": "code",
   "execution_count": null,
   "metadata": {},
   "outputs": [],
   "source": [
    "arr = (np.asarray(img))\n",
    "s = arr.sum(-1)"
   ]
  },
  {
   "cell_type": "code",
   "execution_count": null,
   "metadata": {},
   "outputs": [],
   "source": [
    "s[s!=0]=1\n",
    "s.sum()/PIXEL*100"
   ]
  },
  {
   "cell_type": "code",
   "execution_count": null,
   "metadata": {},
   "outputs": [],
   "source": [
    "files = glob.glob('Data/temp/fredericks_204_205/30_05_2019/*.png')\n"
   ]
  },
  {
   "cell_type": "code",
   "execution_count": null,
   "metadata": {},
   "outputs": [],
   "source": [
    "files = glob.glob('Data/temp/fredericks_204_205/30_05_2019/*.png')\n",
    "files = sorted_nicely(files)\n",
    "for k, file in enumerate (files):\n",
    "    index = \n",
    "    image = cv2.imread (file)\n",
    "    image[image != 0] = 1\n",
    "    crop_percent = image.sum()/PIXEL*100\n",
    "    data['Crop %age'][files[0][40:60] + '.JPG'] = crop_percent/3"
   ]
  },
  {
   "cell_type": "code",
   "execution_count": null,
   "metadata": {},
   "outputs": [],
   "source": [
    "def weed_pixel_counter (files, data):\n",
    "    files = sorted_nicely(files)\n",
    "    data = data.set_index('filename')\n",
    "    data['Crop %age'] = 0\n",
    "    data['Weed %age'] = 0\n",
    "    for k, file in enumerate (files):\n",
    "        image = cv2.imread (file)\n",
    "        image[image != 0] = 1\n",
    "        crop_percent = image.sum()/PIXEL*100\n",
    "        data['Crop %age'][k] = crop_percent\n",
    "    return data"
   ]
  }
 ],
 "metadata": {
  "kernelspec": {
   "display_name": "Python 3",
   "language": "python",
   "name": "python3"
  },
  "language_info": {
   "codemirror_mode": {
    "name": "ipython",
    "version": 3
   },
   "file_extension": ".py",
   "mimetype": "text/x-python",
   "name": "python",
   "nbconvert_exporter": "python",
   "pygments_lexer": "ipython3",
   "version": "3.6.9"
  }
 },
 "nbformat": 4,
 "nbformat_minor": 2
}
