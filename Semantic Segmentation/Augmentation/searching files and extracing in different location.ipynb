{
 "cells": [
  {
   "cell_type": "code",
   "execution_count": null,
   "metadata": {},
   "outputs": [],
   "source": [
    "# Python code to search .mp3 files in current \n",
    "# folder (We can change file type/name and path \n",
    "# according to the requirements. \n",
    "import os \n",
    "import glob\n",
    "required_add='/home/sami/Downloads/Canola Dataset/labeled/borstmayer engels/labels/'\n",
    "directory_for_search='/home/sami/'\n",
    "outpath = '/home/sami/Downloads/Canola Dataset/Borstmayer Engelsf'\n",
    "\n",
    "a=[]\n",
    "b=[]\n",
    "for roots, dirs,files in os.walk(directory_for_search):\n",
    "    for file in files:\n",
    "        if file.endswith('.npz'): \n",
    "            a.append(roots+'/'+str(file))\n",
    " \n",
    "               "
   ]
  },
  {
   "cell_type": "code",
   "execution_count": null,
   "metadata": {},
   "outputs": [],
   "source": [
    "a"
   ]
  },
  {
   "cell_type": "code",
   "execution_count": 18,
   "metadata": {},
   "outputs": [
    {
     "name": "stdout",
     "output_type": "stream",
     "text": [
      "/home/sami/Downloads/Canola All/UofR Shared Folder/Borstmayer Engels//PICT_20190610_104728.JPG\n"
     ]
    }
   ],
   "source": [
    "print(a[1117])"
   ]
  },
  {
   "cell_type": "code",
   "execution_count": null,
   "metadata": {},
   "outputs": [],
   "source": []
  },
  {
   "cell_type": "code",
   "execution_count": 19,
   "metadata": {},
   "outputs": [],
   "source": [
    "for roots, dirs,files in os.walk(required_add):\n",
    "    for root in os.walk(roots):\n",
    "        b.append(root)\n",
    "b=b[0][2] \n"
   ]
  },
  {
   "cell_type": "code",
   "execution_count": 20,
   "metadata": {},
   "outputs": [
    {
     "data": {
      "text/plain": [
       "['PICT_20190610_120057.png',\n",
       " 'PICT_20190610_103510.png',\n",
       " 'PICT_20190610_094446.png',\n",
       " 'PICT_20190610_100050.png',\n",
       " 'PICT_20190610_094327.png',\n",
       " 'PICT_20190610_101615.png',\n",
       " 'PICT_20190610_120030.png',\n",
       " 'PICT_20190610_095631.png',\n",
       " 'PICT_20190610_103550.png',\n",
       " 'PICT_20190610_100043.png',\n",
       " 'PICT_20190610_103524.png',\n",
       " 'PICT_20190610_122515.png',\n",
       " 'PICT_20190610_115922.png',\n",
       " 'PICT_20190610_104311.png',\n",
       " 'PICT_20190610_103024.png',\n",
       " 'PICT_20190610_120251.png',\n",
       " 'PICT_20190610_094306.png',\n",
       " 'PICT_20190610_104615.png',\n",
       " 'PICT_20190610_101200.png',\n",
       " 'PICT_20190610_102431.png',\n",
       " 'PICT_20190610_101130.png',\n",
       " 'PICT_20190610_094540.png',\n",
       " 'PICT_20190610_104051.png']"
      ]
     },
     "execution_count": 20,
     "metadata": {},
     "output_type": "execute_result"
    }
   ],
   "source": [
    "b"
   ]
  },
  {
   "cell_type": "code",
   "execution_count": 21,
   "metadata": {},
   "outputs": [],
   "source": [
    "# Comparison or search for files\n",
    "new_add=[]\n",
    "for i in range(len(a)):\n",
    "    \n",
    "    temp = os.path.splitext(os.path.basename(a[i]))[0]\n",
    "    for t in range(len(b)):\n",
    "       \n",
    "        if os.path.splitext(os.path.basename(b[t]))[0]==temp:\n",
    "            new_add.append(a[i])\n",
    "    \n",
    "    \n",
    "    "
   ]
  },
  {
   "cell_type": "code",
   "execution_count": 22,
   "metadata": {},
   "outputs": [
    {
     "data": {
      "text/plain": [
       "['/home/sami/Downloads/Canola All/UofR Shared Folder/Borstmayer Engels//PICT_20190610_095631.JPG',\n",
       " '/home/sami/Downloads/Canola All/UofR Shared Folder/Borstmayer Engels//PICT_20190610_120251.JPG',\n",
       " '/home/sami/Downloads/Canola All/UofR Shared Folder/Borstmayer Engels//PICT_20190610_104051.JPG',\n",
       " '/home/sami/Downloads/Canola All/UofR Shared Folder/Borstmayer Engels//PICT_20190610_120030.JPG',\n",
       " '/home/sami/Downloads/Canola All/UofR Shared Folder/Borstmayer Engels//PICT_20190610_094446.JPG',\n",
       " '/home/sami/Downloads/Canola All/UofR Shared Folder/Borstmayer Engels//PICT_20190610_101200.JPG',\n",
       " '/home/sami/Downloads/Canola All/UofR Shared Folder/Borstmayer Engels//PICT_20190610_103550.JPG',\n",
       " '/home/sami/Downloads/Canola All/UofR Shared Folder/Borstmayer Engels//PICT_20190610_094306.JPG',\n",
       " '/home/sami/Downloads/Canola All/UofR Shared Folder/Borstmayer Engels//PICT_20190610_100043.JPG',\n",
       " '/home/sami/Downloads/Canola All/UofR Shared Folder/Borstmayer Engels//PICT_20190610_094540.JPG',\n",
       " '/home/sami/Downloads/Canola All/UofR Shared Folder/Borstmayer Engels//PICT_20190610_101130.JPG',\n",
       " '/home/sami/Downloads/Canola All/UofR Shared Folder/Borstmayer Engels//PICT_20190610_104311.JPG',\n",
       " '/home/sami/Downloads/Canola All/UofR Shared Folder/Borstmayer Engels//PICT_20190610_100050.JPG',\n",
       " '/home/sami/Downloads/Canola All/UofR Shared Folder/Borstmayer Engels//PICT_20190610_101615.JPG',\n",
       " '/home/sami/Downloads/Canola All/UofR Shared Folder/Borstmayer Engels//PICT_20190610_120057.JPG',\n",
       " '/home/sami/Downloads/Canola All/UofR Shared Folder/Borstmayer Engels//PICT_20190610_102431.JPG',\n",
       " '/home/sami/Downloads/Canola All/UofR Shared Folder/Borstmayer Engels//PICT_20190610_104615.JPG',\n",
       " '/home/sami/Downloads/Canola All/UofR Shared Folder/Borstmayer Engels//PICT_20190610_103524.JPG',\n",
       " '/home/sami/Downloads/Canola All/UofR Shared Folder/Borstmayer Engels//PICT_20190610_122515.JPG',\n",
       " '/home/sami/Downloads/Canola All/UofR Shared Folder/Borstmayer Engels//PICT_20190610_094327.JPG',\n",
       " '/home/sami/Downloads/Canola All/UofR Shared Folder/Borstmayer Engels//PICT_20190610_103510.JPG',\n",
       " '/home/sami/Downloads/Canola All/UofR Shared Folder/Borstmayer Engels//PICT_20190610_115922.JPG',\n",
       " '/home/sami/Downloads/Canola All/UofR Shared Folder/Borstmayer Engels//PICT_20190610_103024.JPG',\n",
       " '/home/sami/Downloads/Canola All/UofR Shared Folder/Borstmayer Engels/Zone 2/PICT_20190610_104051.JPG',\n",
       " '/home/sami/Downloads/Canola All/UofR Shared Folder/Borstmayer Engels/Zone 2/PICT_20190610_103550.JPG',\n",
       " '/home/sami/Downloads/Canola All/UofR Shared Folder/Borstmayer Engels/Zone 2/PICT_20190610_103510.JPG',\n",
       " '/home/sami/Downloads/Canola All/UofR Shared Folder/Borstmayer Engels/Zone 6/PICT_20190610_100050.JPG',\n",
       " '/home/sami/Downloads/Canola All/UofR Shared Folder/Borstmayer Engels/Zone 6/PICT_20190610_120057.JPG',\n",
       " '/home/sami/Downloads/Canola All/UofR Shared Folder/Borstmayer Engels/Zone 6/PICT_20190610_104615.JPG',\n",
       " '/home/sami/Downloads/Canola All/UofR Shared Folder/Borstmayer Engels/Zone 5/PICT_20190610_120030.JPG',\n",
       " '/home/sami/Downloads/Canola All/UofR Shared Folder/Borstmayer Engels/Zone 5/PICT_20190610_094306.JPG',\n",
       " '/home/sami/Downloads/Canola All/UofR Shared Folder/Borstmayer Engels/Zone 5/PICT_20190610_100043.JPG',\n",
       " '/home/sami/Downloads/Canola All/UofR Shared Folder/Borstmayer Engels/Zone 5/PICT_20190610_094540.JPG',\n",
       " '/home/sami/Downloads/Canola All/UofR Shared Folder/Borstmayer Engels/Zone 5/PICT_20190610_104311.JPG',\n",
       " '/home/sami/Downloads/Canola All/UofR Shared Folder/Borstmayer Engels/Zone 5/PICT_20190610_122515.JPG',\n",
       " '/home/sami/Downloads/Canola All/UofR Shared Folder/Borstmayer Engels/Zone 5/PICT_20190610_115922.JPG',\n",
       " '/home/sami/Downloads/Canola All/UofR Shared Folder/Borstmayer Engels/Zone 5/PICT_20190610_103024.JPG',\n",
       " '/home/sami/Downloads/Canola All/UofR Shared Folder/Borstmayer Engels/Zone 7/PICT_20190610_095631.JPG',\n",
       " '/home/sami/Downloads/Canola All/UofR Shared Folder/Borstmayer Engels/Zone 7/PICT_20190610_120251.JPG',\n",
       " '/home/sami/Downloads/Canola All/UofR Shared Folder/Borstmayer Engels/Zone 4/PICT_20190610_094446.JPG',\n",
       " '/home/sami/Downloads/Canola All/UofR Shared Folder/Borstmayer Engels/Zone 4/PICT_20190610_101130.JPG',\n",
       " '/home/sami/Downloads/Canola All/UofR Shared Folder/Borstmayer Engels/Zone 4/PICT_20190610_101615.JPG',\n",
       " '/home/sami/Downloads/Canola All/UofR Shared Folder/Borstmayer Engels/Zone 4/PICT_20190610_102431.JPG',\n",
       " '/home/sami/Downloads/Canola All/UofR Shared Folder/Borstmayer Engels/Zone 4/PICT_20190610_103524.JPG',\n",
       " '/home/sami/Downloads/Canola All/UofR Shared Folder/Borstmayer Engels/Zone 4/PICT_20190610_094327.JPG',\n",
       " '/home/sami/Downloads/Canola All/UofR Shared Folder/Borstmayer Engels/Zone 3/PICT_20190610_101200.JPG']"
      ]
     },
     "execution_count": 22,
     "metadata": {},
     "output_type": "execute_result"
    }
   ],
   "source": [
    "new_add"
   ]
  },
  {
   "cell_type": "code",
   "execution_count": 23,
   "metadata": {},
   "outputs": [
    {
     "name": "stdout",
     "output_type": "stream",
     "text": [
      "Image sepration Done\n"
     ]
    }
   ],
   "source": [
    "import cv2\n",
    "\n",
    "outpath = '/home/sami/Downloads/Canola Dataset/labeled/borstmayer engels/Field'\n",
    "\n",
    "for filename in range(0,len(new_add)):\n",
    "    # load and resize the image\n",
    "    \n",
    "    img = cv2.imread(new_add[filename])\n",
    "    img_rgb = cv2.cvtColor(img, cv2.COLOR_BGR2RGB)\n",
    "        \n",
    "    save_fname = os.path.join(outpath, os.path.splitext(os.path.basename(new_add[filename]))[0]+'.JPG')\n",
    "    cv2.imwrite(save_fname, img_rgb) \n",
    "    # convert to numpy array\n",
    "print('Image sepration Done')\n"
   ]
  },
  {
   "cell_type": "code",
   "execution_count": null,
   "metadata": {},
   "outputs": [],
   "source": [
    "# Showing all the pictures all together \n",
    "for j in range(labelone.shape[0]):\n",
    "    \n",
    "    plt.figure(1); plt.clf()\n",
    "    plt.imshow(labelone[j])\n",
    "    plt.title('Number ' + str(j))\n",
    "    plt.pause(3)"
   ]
  }
 ],
 "metadata": {
  "kernelspec": {
   "display_name": "Python 3",
   "language": "python",
   "name": "python3"
  },
  "language_info": {
   "codemirror_mode": {
    "name": "ipython",
    "version": 3
   },
   "file_extension": ".py",
   "mimetype": "text/x-python",
   "name": "python",
   "nbconvert_exporter": "python",
   "pygments_lexer": "ipython3",
   "version": "3.6.4"
  }
 },
 "nbformat": 4,
 "nbformat_minor": 2
}
